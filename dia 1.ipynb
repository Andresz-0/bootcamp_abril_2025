{
 "cells": [
  {
   "cell_type": "code",
   "execution_count": null,
   "id": "ba9b3c3a",
   "metadata": {},
   "outputs": [],
   "source": []
  },
  {
   "cell_type": "code",
   "execution_count": 35,
   "id": "afc8b6a4",
   "metadata": {},
   "outputs": [
    {
     "name": "stdout",
     "output_type": "stream",
     "text": [
      "Elije tu vehiculo\n",
      "rojo\n",
      "marca toyota\n",
      "tipo coupe\n",
      "compra exitosa\n"
     ]
    }
   ],
   "source": [
    "def auto(color):\n",
    "    print(\"Elije tu vehiculo\")\n",
    "    print(color)\n",
    "    print(\"marca toyota\")\n",
    "    print(\"tipo coupe\")\n",
    "    print(\"compra exitosa\")\n",
    "auto(\"rojo\")"
   ]
  },
  {
   "cell_type": "code",
   "execution_count": 25,
   "id": "5715c36e",
   "metadata": {},
   "outputs": [
    {
     "name": "stdout",
     "output_type": "stream",
     "text": [
      "abrir heladera\n",
      "sacar leche\n",
      "abrir leche\n",
      "poner en taza\n",
      "abrir heladera\n",
      "sacar leche\n",
      "abrir leche\n",
      "poner en taza\n",
      "abrir heladera\n",
      "sacar leche\n",
      "abrir leche\n",
      "poner en taza\n"
     ]
    }
   ],
   "source": [
    "def servir_leche():\n",
    "    print(\"abrir heladera\")\n",
    "    print(\"sacar leche\")\n",
    "    print(\"abrir leche\")\n",
    "    print(\"poner en taza\")\n",
    "\n",
    "servir_leche()\n",
    "servir_leche()\n",
    "servir_leche()"
   ]
  },
  {
   "cell_type": "code",
   "execution_count": 23,
   "id": "174e9c83",
   "metadata": {},
   "outputs": [
    {
     "name": "stdout",
     "output_type": "stream",
     "text": [
      "la suma es: 10\n"
     ]
    }
   ],
   "source": [
    "numero1 = int(input(\"ingresa un numero\"))\n",
    "numero2 = int(input(\"ingrese otro numero\"))\n",
    "total = numero1 + numero2\n",
    "print(f\"la suma es: {total}\")"
   ]
  },
  {
   "cell_type": "code",
   "execution_count": 14,
   "id": "ec988a07",
   "metadata": {},
   "outputs": [
    {
     "name": "stdout",
     "output_type": "stream",
     "text": [
      "hugo\n"
     ]
    }
   ],
   "source": [
    "nombre= input(\"cual es tu nombre?\")\n",
    "print(nombre)"
   ]
  },
  {
   "cell_type": "code",
   "execution_count": null,
   "id": "6d1df1ae",
   "metadata": {},
   "outputs": [
    {
     "name": "stdout",
     "output_type": "stream",
     "text": [
      "cantidad de frutas 14\n",
      "frutas restantes 11\n"
     ]
    }
   ],
   "source": [
    "cantidad_de_manzanas = 7\n",
    "\n",
    "cantidad_de_naranjas = 7\n",
    "\n",
    "frutas_vendidas = 3\n",
    "# suma\n",
    "cantidad_de_frutas = cantidad_de_manzanas + cantidad_de_naranjas\n",
    "print(\"cantidad de frutas\",cantidad_de_frutas)\n",
    "#resta\n",
    "frutas_restantes= cantidad_de_frutas - frutas_vendidas\n",
    "print(\"frutas restantes\",frutas_restantes)\n"
   ]
  },
  {
   "cell_type": "code",
   "execution_count": 13,
   "id": "99b5319d",
   "metadata": {},
   "outputs": [
    {
     "name": "stdout",
     "output_type": "stream",
     "text": [
      "Hola, me llamo marcos morel mucho gusto\n"
     ]
    }
   ],
   "source": [
    "nombre = \"marcos\"\n",
    "apellido = \"morel\"\n",
    "print(f\"Hola, me llamo {nombre} {apellido} mucho gusto\")"
   ]
  }
 ],
 "metadata": {
  "kernelspec": {
   "display_name": ".venv",
   "language": "python",
   "name": "python3"
  },
  "language_info": {
   "codemirror_mode": {
    "name": "ipython",
    "version": 3
   },
   "file_extension": ".py",
   "mimetype": "text/x-python",
   "name": "python",
   "nbconvert_exporter": "python",
   "pygments_lexer": "ipython3",
   "version": "3.12.3"
  }
 },
 "nbformat": 4,
 "nbformat_minor": 5
}
