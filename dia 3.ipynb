{
 "cells": [
  {
   "cell_type": "code",
   "execution_count": null,
   "id": "cb6e4bb3",
   "metadata": {},
   "outputs": [
    {
     "name": "stdout",
     "output_type": "stream",
     "text": [
      "Bienvenido a la palabra del dia:\n",
      "ingresaste hola\n"
     ]
    }
   ],
   "source": [
    "\n",
    "palabra_secreta = 'Choclo'\n",
    "\n",
    "tope_letras = 6\n",
    "\n",
    "intentos = 3\n",
    "\n",
    "print('Bienvenido a la palabra del dia:')\n",
    "\n",
    "palabra_ingresada = input('ingresa una palabra de 6 letras:')\n",
    "\n",
    "print(f'ingresaste: {palabra_ingresada}')\n",
    "\n",
    "if palabra_ingresada == palabra_secreta:\n",
    "    print('Felicidades Ganaste')\n",
    "else:\n",
    "    while intento > 0:\n",
    "        \n",
    "    \n"
   ]
  },
  {
   "cell_type": "code",
   "execution_count": 50,
   "id": "47cc344c",
   "metadata": {},
   "outputs": [
    {
     "name": "stdout",
     "output_type": "stream",
     "text": [
      "['h', 'o', 'l', 'i', 's']\n",
      "['h', 'e', 'l', 'l', 'o']\n",
      "['h', 'a', 'l', 'l', 'o']\n"
     ]
    }
   ],
   "source": [
    "def grilla():\n",
    "    lista_de_palabras = [['h', 'o', 'l', 'i', 's'], ['h', 'e', 'l', 'l', 'o'], ['h', 'a', 'l', 'l', 'o']]\n",
    "    for i in lista_de_palabras:\n",
    "        print(i)\n",
    "\n",
    "grilla()\n"
   ]
  },
  {
   "cell_type": "code",
   "execution_count": null,
   "id": "5e7c6e0d",
   "metadata": {},
   "outputs": [
    {
     "name": "stdout",
     "output_type": "stream",
     "text": [
      "[['h', 'u', 'g', 'o']]\n",
      "[['h', 'u', 'g', 'o'], ['h', 'u', 'g', 'o']]\n",
      "[['h', 'u', 'g', 'o'], ['h', 'u', 'g', 'o'], ['h', 'u', 'g', 'o']]\n"
     ]
    }
   ],
   "source": [
    "##analizar challenge 5\n",
    "palabras_ingresadas = []\n",
    "\n",
    "for i in range(3):\n",
    "    palabra = input(\"Ingresa una palabra: \")\n",
    "    lista_caracteres = list(palabra)\n",
    "    palabras_ingresadas.append(lista_caracteres)\n",
    "    print(palabras_ingresadas)\n"
   ]
  },
  {
   "cell_type": "code",
   "execution_count": 29,
   "id": "60475c06",
   "metadata": {},
   "outputs": [
    {
     "data": {
      "text/plain": [
       "False"
      ]
     },
     "execution_count": 29,
     "metadata": {},
     "output_type": "execute_result"
    }
   ],
   "source": [
    "def entrada(palabra,numero):\n",
    "    if len(palabra) == numero:\n",
    "        return True\n",
    "    else:\n",
    "        return False\n",
    "palabra_ingresada = input('ingrese una palabra')\n",
    "numero_inresado = int(input('ingrese un numero:'))\n",
    "\n",
    "entrada(palabra_ingresada, numero_inresado)"
   ]
  },
  {
   "cell_type": "code",
   "execution_count": 22,
   "id": "fb74566b",
   "metadata": {},
   "outputs": [
    {
     "name": "stdout",
     "output_type": "stream",
     "text": [
      "las letras son diferentes\n"
     ]
    }
   ],
   "source": [
    "def letras(primera_letra, segunda_letra):\n",
    "    if primera_letra == segunda_letra:\n",
    "        print('las letras son iguales')\n",
    "    else:\n",
    "        print('las letras son diferentes')\n",
    "\n",
    "letras('n','h')"
   ]
  },
  {
   "cell_type": "code",
   "execution_count": 9,
   "id": "488b3ff5",
   "metadata": {},
   "outputs": [
    {
     "name": "stdout",
     "output_type": "stream",
     "text": [
      "palabra\n"
     ]
    }
   ],
   "source": [
    "palabra = 'palabra'\n",
    "def imprimir_palabra():\n",
    "    print(palabra)\n",
    "\n",
    "imprimir_palabra()"
   ]
  }
 ],
 "metadata": {
  "kernelspec": {
   "display_name": ".venv",
   "language": "python",
   "name": "python3"
  },
  "language_info": {
   "codemirror_mode": {
    "name": "ipython",
    "version": 3
   },
   "file_extension": ".py",
   "mimetype": "text/x-python",
   "name": "python",
   "nbconvert_exporter": "python",
   "pygments_lexer": "ipython3",
   "version": "3.12.3"
  }
 },
 "nbformat": 4,
 "nbformat_minor": 5
}
