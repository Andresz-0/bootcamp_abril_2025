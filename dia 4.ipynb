{
 "cells": [
  {
   "cell_type": "markdown",
   "id": "7f67b78c",
   "metadata": {},
   "source": [
    "# Challenge 🤺\n",
    "Definir una clase madre que herede a sus clases hijas dos atributos de instancia. Mostrar ambos atributos en pantalla desde los objetos de las clases hijas.\n",
    "\n",
    "Observación: Editar las clases hijas para que no se inicialicen."
   ]
  },
  {
   "cell_type": "code",
   "execution_count": 34,
   "id": "c5fe35d6",
   "metadata": {},
   "outputs": [
    {
     "name": "stdout",
     "output_type": "stream",
     "text": [
      "salta por un arbol\n",
      "maulla\n"
     ]
    }
   ],
   "source": [
    "class Gato():\n",
    "    patas = 4\n",
    "\n",
    "    ojos = 2\n",
    "\n",
    "    cola = 1\n",
    "\n",
    "    def __init__(self,raza,color):\n",
    "        self.color = color\n",
    "        self.raza = raza\n",
    "\n",
    "    def saltar (self):\n",
    "        return ('salta por un arbol')\n",
    "    def maullar (self):\n",
    "        return('maulla')\n",
    "    \n",
    "michi= Gato('delmer','naranja')\n",
    "print(michi.saltar())\n",
    "print(michi.maullar())\n"
   ]
  },
  {
   "cell_type": "code",
   "execution_count": 40,
   "id": "95543333",
   "metadata": {},
   "outputs": [
    {
     "name": "stdout",
     "output_type": "stream",
     "text": [
      "delmer\n",
      "negro\n"
     ]
    }
   ],
   "source": [
    "class Gatito(Gato):\n",
    "    cola = 1\n",
    "\n",
    "    patas = 3\n",
    "\n",
    "\n",
    "felipe = Gatito('delmer','negro')\n",
    "print(felipe.raza)\n",
    "print(felipe.color)"
   ]
  },
  {
   "cell_type": "markdown",
   "id": "c41980f4",
   "metadata": {},
   "source": [
    "# Challenge 🤺\n",
    "Crear dos métodos para nuestro animal y ejecutar, debe ser algo específico de ese animal.\n",
    "\n",
    "Ejemplo: \"Cuando hablo, digo X\".\n",
    "Ejemplo: \"Cuando me muevo, hago X\"."
   ]
  },
  {
   "cell_type": "code",
   "execution_count": null,
   "id": "e9754d04",
   "metadata": {},
   "outputs": [
    {
     "name": "stdout",
     "output_type": "stream",
     "text": [
      "husky blanco\n"
     ]
    }
   ],
   "source": [
    "class Perro:\n",
    "    ojos = 2\n",
    "    patas = 4\n",
    "    cola = 1\n",
    "\n",
    "    def __init__(self,color,raza):\n",
    "        self.color = color\n",
    "        self.raza = raza\n",
    "\n",
    "piter = Perro('blanco','husky')\n",
    "print(piter.raza,piter.color)\n",
    "\n",
    "def self(self):\n",
    "    print('estoy saltando')\n",
    "\n",
    "piter = Perro\n",
    "\n"
   ]
  },
  {
   "cell_type": "markdown",
   "id": "e6051fae",
   "metadata": {},
   "source": [
    "## Challenge 3 🤺\n",
    "Crear una agenda de contactos. El usuario puede elegir:\n",
    "\n",
    "    -Mostrar los contactos\n",
    "    -Crear contacto\n",
    "    -Modificar datos del contacto"
   ]
  },
  {
   "cell_type": "code",
   "execution_count": 15,
   "id": "226d4ca2",
   "metadata": {},
   "outputs": [
    {
     "name": "stdout",
     "output_type": "stream",
     "text": [
      "seleccione su opcion\n",
      "1. Ver contactos\n",
      "2.Crear Contacto\n",
      "3.modificar datos del contacto\n"
     ]
    },
    {
     "ename": "ValueError",
     "evalue": "invalid literal for int() with base 10: ''",
     "output_type": "error",
     "traceback": [
      "\u001b[31m---------------------------------------------------------------------------\u001b[39m",
      "\u001b[31mValueError\u001b[39m                                Traceback (most recent call last)",
      "\u001b[36mCell\u001b[39m\u001b[36m \u001b[39m\u001b[32mIn[15]\u001b[39m\u001b[32m, line 11\u001b[39m\n\u001b[32m      7\u001b[39m \u001b[38;5;28mprint\u001b[39m(\u001b[33m'\u001b[39m\u001b[33m2.Crear Contacto\u001b[39m\u001b[33m'\u001b[39m)\n\u001b[32m      9\u001b[39m \u001b[38;5;28mprint\u001b[39m(\u001b[33m'\u001b[39m\u001b[33m3.modificar datos del contacto\u001b[39m\u001b[33m'\u001b[39m)\n\u001b[32m---> \u001b[39m\u001b[32m11\u001b[39m opcion = \u001b[38;5;28;43mint\u001b[39;49m\u001b[43m(\u001b[49m\u001b[38;5;28;43minput\u001b[39;49m\u001b[43m(\u001b[49m\u001b[33;43m'\u001b[39;49m\u001b[33;43mingrese una opcion en numero\u001b[39;49m\u001b[33;43m'\u001b[39;49m\u001b[43m)\u001b[49m\u001b[43m)\u001b[49m\n\u001b[32m     13\u001b[39m \u001b[38;5;28;01mif\u001b[39;00m opcion == \u001b[32m1\u001b[39m:\n\u001b[32m     14\u001b[39m     agenda_de_contactos.items\n",
      "\u001b[31mValueError\u001b[39m: invalid literal for int() with base 10: ''"
     ]
    }
   ],
   "source": [
    "agenda_de_contactos = {'maggy': 9935,'felipe': 5585,'Marcos': 8899}\n",
    "\n",
    "print('seleccione su opcion')\n",
    "\n",
    "print('1. Ver contactos')\n",
    "\n",
    "print('2.Crear Contacto')\n",
    "\n",
    "print('3.modificar datos del contacto')\n",
    "\n",
    "opcion = int(input('ingrese una opcion en numero'))\n",
    "\n",
    "if opcion == 1:\n",
    "    agenda_de_contactos.items\n",
    "    print(agenda_de_contactos)\n",
    "elif opcion == 2:\n",
    "    crear_contacto =input('ingrese su')\n"
   ]
  },
  {
   "cell_type": "markdown",
   "id": "c3f0a13f",
   "metadata": {},
   "source": [
    "# Challenge 2 🤺\n",
    "Crear una tarjeta personal. El usuario (mediante input) puede elegir:\n",
    "\n",
    "    -Crear datos nuevos\n",
    "    -Modificar datos\n",
    "    -Eliminar datos"
   ]
  },
  {
   "cell_type": "code",
   "execution_count": null,
   "id": "43d9df12",
   "metadata": {},
   "outputs": [
    {
     "name": "stdout",
     "output_type": "stream",
     "text": [
      "{'nombre': 'hugo'}\n",
      "{'nombre': 'hugo', 'edad': 18}\n",
      "{'nombre': 'hugo', 'edad': 18, 'sexo': 'hombre'}\n",
      "{'nombre': 'hugo', 'edad': 18, 'sexo': 'hombre', 'direccion': 'lapacho'}\n",
      "le gustaria realizar alguna modificacion ? \n",
      "seleccione una opcion\n",
      "1.Crear datos nuevos\n",
      "2.modificar datos\n",
      "3.eliminar datos\n"
     ]
    }
   ],
   "source": [
    "#crear un diccionario vacio\n",
    "    dato_usuario = {}\n",
    "    nombre_usuario = input('ingree su nombre')\n",
    "    dato_usuario['nombre'] = nombre_usuario\n",
    "    print(dato_usuario)\n",
    "\n",
    "    edad = int(input('ingrese su edad'))\n",
    "    dato_usuario['edad'] = edad\n",
    "    print(dato_usuario)\n",
    "\n",
    "    sexo = input('ingrese su sexo')\n",
    "    dato_usuario['sexo'] = sexo\n",
    "    print(dato_usuario)\n",
    "\n",
    "    direccion = input('ingrese su direcion')\n",
    "    dato_usuario['direccion'] = direccion\n",
    "    print(dato_usuario)\n",
    "\n",
    "print('le gustaria realizar alguna modificacion ? ')\n",
    "\n",
    "siono = int(input('Marque [1] para si o [2 para no]'))\n",
    "\n",
    "if siono == 2:\n",
    "    print('Datos cargados con exito')\n",
    "\n",
    "elif siono == 1:\n",
    "\n",
    "    print('1.Crear datos nuevos')\n",
    "\n",
    "    print('2.modificar datos')\n",
    "\n",
    "    print('3.eliminar datos')\n",
    "\n",
    "    opcion = int(input('ingrese su opcion con un numero: '))\n",
    "\n",
    "    if opcion == 1:\n",
    "        nuevo_dato = input('ingrese el nuevo dato a agregar')\n",
    "        dato_usuario =['nuevodato'] = nuevo_dato\n",
    "        print(dato_usuario)\n",
    "        print('cargado con exito')\n",
    "\n",
    "    elif opcion == 2:\n",
    "        print('seleccione lo que desea modificar')\n",
    "\n",
    "        print('1.Nombre')\n",
    "\n",
    "        print('2.Edad')\n",
    "\n",
    "        print('3.sexo')\n",
    "\n",
    "        print('4.Direccion')\n",
    "\n",
    "        dato_modificado = int(input('ingrese su opcion con un numero:'))\n",
    "\n",
    "        if dato_modificado == 1:\n",
    "            nombre_modificado = input('Modifique el nombre')\n",
    "            dato_usuario['nombre'] = nombre_modificado\n",
    "            print(dato_usuario)"
   ]
  },
  {
   "cell_type": "markdown",
   "id": "56df4d09",
   "metadata": {},
   "source": [
    "# Challenge 1 🤺\n",
    "Escribir un programa que cree un diccionario vacío y lo vaya llenado con información sobre una persona (por ejemplo nombre, edad, sexo, teléfono, correo electrónico, etc.) que se le pida al usuario. Cada vez que se añada un nuevo dato debe imprimirse el contenido del diccionario."
   ]
  },
  {
   "cell_type": "code",
   "execution_count": null,
   "id": "e34c219b",
   "metadata": {},
   "outputs": [],
   "source": [
    "#crear un diccionario vacio\n",
    "    dato_usuario = {}\n",
    "    nombre_usuario = input('ingree su nombre')\n",
    "    dato_usuario['nombre'] = nombre_usuario\n",
    "    print(dato_usuario)\n",
    "\n",
    "    edad = int(input('ingrese su edad'))\n",
    "    dato_usuario['edad'] = edad\n",
    "    print(dato_usuario)\n",
    "\n",
    "    sexo = input('ingrese su sexo')\n",
    "    dato_usuario['sexo'] = sexo\n",
    "    print(dato_usuario)\n",
    "\n",
    "    direccion = input('ingrese su direcion')\n",
    "    dato_usuario['direccion'] = direccion\n",
    "    print(dato_usuario)"
   ]
  }
 ],
 "metadata": {
  "kernelspec": {
   "display_name": ".venv",
   "language": "python",
   "name": "python3"
  },
  "language_info": {
   "codemirror_mode": {
    "name": "ipython",
    "version": 3
   },
   "file_extension": ".py",
   "mimetype": "text/x-python",
   "name": "python",
   "nbconvert_exporter": "python",
   "pygments_lexer": "ipython3",
   "version": "3.12.3"
  }
 },
 "nbformat": 4,
 "nbformat_minor": 5
}
