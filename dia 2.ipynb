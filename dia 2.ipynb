{
 "cells": [
  {
   "cell_type": "code",
   "execution_count": 39,
   "id": "1a954823",
   "metadata": {},
   "outputs": [
    {
     "name": "stdout",
     "output_type": "stream",
     "text": [
      "se encotro la letra O\n",
      "se encotro la letra O\n"
     ]
    }
   ],
   "source": [
    "frase = (input('ingrese una frase:'))\n",
    "\n",
    "for i in frase:\n",
    "    if i == 'o':\n",
    "        print('se encotro la letra O')"
   ]
  },
  {
   "cell_type": "code",
   "execution_count": 31,
   "id": "bce6f15b",
   "metadata": {},
   "outputs": [
    {
     "name": "stdout",
     "output_type": "stream",
     "text": [
      "adidas\n",
      "new balance\n",
      "jordan\n"
     ]
    }
   ],
   "source": [
    "marcas = ['adidas','nike','new balance','jordan']\n",
    "\n",
    "for i in marcas:\n",
    "    if len(i) >= 6:\n",
    "        print(i)"
   ]
  },
  {
   "cell_type": "code",
   "execution_count": 26,
   "id": "3229f31a",
   "metadata": {},
   "outputs": [
    {
     "name": "stdout",
     "output_type": "stream",
     "text": [
      "0\n",
      "2\n",
      "4\n",
      "6\n",
      "8\n",
      "10\n",
      "12\n",
      "14\n",
      "16\n",
      "18\n"
     ]
    }
   ],
   "source": [
    "\n",
    "for num in range(10):\n",
    "    print(num*2)"
   ]
  },
  {
   "cell_type": "code",
   "execution_count": null,
   "id": "db80631a",
   "metadata": {},
   "outputs": [
    {
     "name": "stdout",
     "output_type": "stream",
     "text": [
      "['hugo', 'sole', 'marcos', 'juan', 'maggy', 'panfilo']\n",
      "['hugo', 'felipe', 'marcos', 'juan', 'maggy', 'panfilo']\n",
      "['hugo', 'felipe', 'juan', 'maggy', 'panfilo']\n"
     ]
    }
   ],
   "source": [
    "lista_de_nombres = ['hugo','sole','marcos','juan','maggy']\n",
    "\n",
    "lista_de_nombres.append('panfilo')#agrego un elemento al final de la lista\n",
    "print(lista_de_nombres)\n",
    "\n",
    "lista_de_nombres[1]= 'felipe'# modifico el segundo elemento usando indice\n",
    "print(lista_de_nombres)\n",
    "\n",
    "lista_de_nombres.remove('marcos')#elimino el tercer elemento usando indice\n",
    "print(lista_de_nombres)"
   ]
  },
  {
   "cell_type": "code",
   "execution_count": 3,
   "id": "4f64c258",
   "metadata": {},
   "outputs": [
    {
     "name": "stdout",
     "output_type": "stream",
     "text": [
      "contraseña correcta\n"
     ]
    }
   ],
   "source": [
    "contraseña = 'penguin2025'\n",
    "contra_ingresada = (input('Ingrese la contraseña:'))\n",
    "while True:\n",
    "    if contra_ingresada == contraseña:\n",
    "        print('contraseña correcta')\n",
    "        break\n",
    "    else:\n",
    "        print('Contraseña incorrecta')\n",
    "        break"
   ]
  },
  {
   "cell_type": "code",
   "execution_count": 4,
   "id": "aec0e1e7",
   "metadata": {},
   "outputs": [
    {
     "name": "stdout",
     "output_type": "stream",
     "text": [
      "temperatura ingresada 7\n",
      "Fresquete\n"
     ]
    }
   ],
   "source": [
    "temperatura = int(input('Ingresa la temperatura en grados celsius'))\n",
    "print(f'temperatura ingresada {temperatura}')\n",
    "if temperatura < 18:\n",
    "    print('Fresquete')\n",
    "elif temperatura > 18 and temperatura <= 30:\n",
    "    print('calor i')\n",
    "elif temperatura > 30 and temperatura <= 45:\n",
    "    print('Hakuuuu')\n",
    "else:\n",
    "    print('ñamano mba e')"
   ]
  },
  {
   "cell_type": "code",
   "execution_count": 4,
   "id": "b0d3babc",
   "metadata": {},
   "outputs": [
    {
     "name": "stdout",
     "output_type": "stream",
     "text": [
      "Buen dia carlos, como se encuentra?\n"
     ]
    }
   ],
   "source": [
    "def saludo(nombre):\n",
    "    print(f\"Buen dia {nombre}, como se encuentra?\")\n",
    "\n",
    "saludo(\"carlos\")\n"
   ]
  },
  {
   "cell_type": "code",
   "execution_count": 13,
   "id": "80dd1a80",
   "metadata": {},
   "outputs": [
    {
     "name": "stdout",
     "output_type": "stream",
     "text": [
      "hace lo que quieras\n"
     ]
    }
   ],
   "source": [
    "edad =21\n",
    "if edad < 18:\n",
    "    print(\"juguito nomas\")\n",
    "elif edad < 21:\n",
    "    print('podes tomar pero no comprar')\n",
    "else:print('hace lo que quieras')"
   ]
  }
 ],
 "metadata": {
  "kernelspec": {
   "display_name": ".venv",
   "language": "python",
   "name": "python3"
  },
  "language_info": {
   "codemirror_mode": {
    "name": "ipython",
    "version": 3
   },
   "file_extension": ".py",
   "mimetype": "text/x-python",
   "name": "python",
   "nbconvert_exporter": "python",
   "pygments_lexer": "ipython3",
   "version": "3.12.3"
  }
 },
 "nbformat": 4,
 "nbformat_minor": 5
}
